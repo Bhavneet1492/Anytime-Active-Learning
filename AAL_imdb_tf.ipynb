{
  "cells": [
    {
      "cell_type": "code",
      "execution_count": 1,
      "id": "4738bfed",
      "metadata": {
        "id": "4738bfed"
      },
      "outputs": [],
      "source": [
        "import pandas as pd\n",
        "import re\n",
        "import string\n",
        "from nltk.tokenize import word_tokenize\n",
        "from sklearn.feature_extraction.text import CountVectorizer\n",
        "from nltk.util import ngrams\n",
        "from nltk.probability import FreqDist\n",
        "from sklearn.preprocessing import LabelEncoder\n",
        "from sklearn.model_selection import train_test_split\n",
        "from sklearn.linear_model import LogisticRegression\n",
        "import numpy as np\n",
        "from pydrive.auth import GoogleAuth\n",
        "from pydrive.drive import GoogleDrive\n",
        "import pickle\n",
        "from sklearn.metrics import roc_auc_score\n",
        "import matplotlib.pyplot as plt\n",
        "import tensorflow as tf\n",
        "from tensorflow.keras.layers.experimental.preprocessing import TextVectorization\n",
        "from tensorflow.keras.preprocessing.sequence import pad_sequences\n",
        "import copy"
      ]
    },
    {
      "cell_type": "code",
      "source": [
        "# !pip install tf-nightly"
      ],
      "metadata": {
        "id": "MLEQnADib7LG"
      },
      "id": "MLEQnADib7LG",
      "execution_count": 2,
      "outputs": []
    },
    {
      "cell_type": "code",
      "source": [
        "tf.test.gpu_device_name()"
      ],
      "metadata": {
        "colab": {
          "base_uri": "https://localhost:8080/",
          "height": 35
        },
        "id": "PojTIlPRbnTP",
        "outputId": "c47e1cc6-42d1-4700-ccf2-9c649e4404d2"
      },
      "id": "PojTIlPRbnTP",
      "execution_count": 3,
      "outputs": [
        {
          "output_type": "execute_result",
          "data": {
            "text/plain": [
              "'/device:GPU:0'"
            ],
            "application/vnd.google.colaboratory.intrinsic+json": {
              "type": "string"
            }
          },
          "metadata": {},
          "execution_count": 3
        }
      ]
    },
    {
      "cell_type": "code",
      "execution_count": 4,
      "id": "7d4a7f36",
      "metadata": {
        "id": "7d4a7f36"
      },
      "outputs": [],
      "source": [
        "def word_count(s):\n",
        "    return len(s.split())"
      ]
    },
    {
      "cell_type": "code",
      "execution_count": 5,
      "id": "094df2b3",
      "metadata": {
        "id": "094df2b3"
      },
      "outputs": [],
      "source": [
        "def striphtml(text):\n",
        "    p=re.compile('<.*?>')\n",
        "    return p.sub('',text)"
      ]
    },
    {
      "cell_type": "code",
      "source": [
        "from google.colab import drive\n",
        "drive.mount('/content/drive')"
      ],
      "metadata": {
        "colab": {
          "base_uri": "https://localhost:8080/"
        },
        "id": "LIqUTgHMI09x",
        "outputId": "ac83be6c-a576-47a1-ba96-3876fdca1638"
      },
      "id": "LIqUTgHMI09x",
      "execution_count": 6,
      "outputs": [
        {
          "output_type": "stream",
          "name": "stdout",
          "text": [
            "Mounted at /content/drive\n"
          ]
        }
      ]
    },
    {
      "cell_type": "code",
      "execution_count": 7,
      "id": "7f22b9b6",
      "metadata": {
        "id": "7f22b9b6"
      },
      "outputs": [],
      "source": [
        "df = pd.read_csv(\"/content/drive/MyDrive/IMDB Dataset.csv\")"
      ]
    },
    {
      "cell_type": "code",
      "execution_count": 8,
      "id": "754f749e",
      "metadata": {
        "colab": {
          "base_uri": "https://localhost:8080/"
        },
        "id": "754f749e",
        "outputId": "9a2207fa-2b90-41ef-f9c2-dadd7f9bbcdb"
      },
      "outputs": [
        {
          "output_type": "execute_result",
          "data": {
            "text/plain": [
              "(50000, 2)"
            ]
          },
          "metadata": {},
          "execution_count": 8
        }
      ],
      "source": [
        "df.shape"
      ]
    },
    {
      "cell_type": "code",
      "execution_count": 9,
      "id": "175091df",
      "metadata": {
        "colab": {
          "base_uri": "https://localhost:8080/",
          "height": 206
        },
        "id": "175091df",
        "outputId": "10ad96df-adb3-4ee9-a83d-0a85a00b0fbd"
      },
      "outputs": [
        {
          "output_type": "execute_result",
          "data": {
            "text/plain": [
              "                                              review sentiment\n",
              "0  One of the other reviewers has mentioned that ...  positive\n",
              "1  A wonderful little production. <br /><br />The...  positive\n",
              "2  I thought this was a wonderful way to spend ti...  positive\n",
              "3  Basically there's a family where a little boy ...  negative\n",
              "4  Petter Mattei's \"Love in the Time of Money\" is...  positive"
            ],
            "text/html": [
              "\n",
              "  <div id=\"df-1ef7cab2-9e96-4e19-a007-4748b2c8b7e6\" class=\"colab-df-container\">\n",
              "    <div>\n",
              "<style scoped>\n",
              "    .dataframe tbody tr th:only-of-type {\n",
              "        vertical-align: middle;\n",
              "    }\n",
              "\n",
              "    .dataframe tbody tr th {\n",
              "        vertical-align: top;\n",
              "    }\n",
              "\n",
              "    .dataframe thead th {\n",
              "        text-align: right;\n",
              "    }\n",
              "</style>\n",
              "<table border=\"1\" class=\"dataframe\">\n",
              "  <thead>\n",
              "    <tr style=\"text-align: right;\">\n",
              "      <th></th>\n",
              "      <th>review</th>\n",
              "      <th>sentiment</th>\n",
              "    </tr>\n",
              "  </thead>\n",
              "  <tbody>\n",
              "    <tr>\n",
              "      <th>0</th>\n",
              "      <td>One of the other reviewers has mentioned that ...</td>\n",
              "      <td>positive</td>\n",
              "    </tr>\n",
              "    <tr>\n",
              "      <th>1</th>\n",
              "      <td>A wonderful little production. &lt;br /&gt;&lt;br /&gt;The...</td>\n",
              "      <td>positive</td>\n",
              "    </tr>\n",
              "    <tr>\n",
              "      <th>2</th>\n",
              "      <td>I thought this was a wonderful way to spend ti...</td>\n",
              "      <td>positive</td>\n",
              "    </tr>\n",
              "    <tr>\n",
              "      <th>3</th>\n",
              "      <td>Basically there's a family where a little boy ...</td>\n",
              "      <td>negative</td>\n",
              "    </tr>\n",
              "    <tr>\n",
              "      <th>4</th>\n",
              "      <td>Petter Mattei's \"Love in the Time of Money\" is...</td>\n",
              "      <td>positive</td>\n",
              "    </tr>\n",
              "  </tbody>\n",
              "</table>\n",
              "</div>\n",
              "    <div class=\"colab-df-buttons\">\n",
              "\n",
              "  <div class=\"colab-df-container\">\n",
              "    <button class=\"colab-df-convert\" onclick=\"convertToInteractive('df-1ef7cab2-9e96-4e19-a007-4748b2c8b7e6')\"\n",
              "            title=\"Convert this dataframe to an interactive table.\"\n",
              "            style=\"display:none;\">\n",
              "\n",
              "  <svg xmlns=\"http://www.w3.org/2000/svg\" height=\"24px\" viewBox=\"0 -960 960 960\">\n",
              "    <path d=\"M120-120v-720h720v720H120Zm60-500h600v-160H180v160Zm220 220h160v-160H400v160Zm0 220h160v-160H400v160ZM180-400h160v-160H180v160Zm440 0h160v-160H620v160ZM180-180h160v-160H180v160Zm440 0h160v-160H620v160Z\"/>\n",
              "  </svg>\n",
              "    </button>\n",
              "\n",
              "  <style>\n",
              "    .colab-df-container {\n",
              "      display:flex;\n",
              "      gap: 12px;\n",
              "    }\n",
              "\n",
              "    .colab-df-convert {\n",
              "      background-color: #E8F0FE;\n",
              "      border: none;\n",
              "      border-radius: 50%;\n",
              "      cursor: pointer;\n",
              "      display: none;\n",
              "      fill: #1967D2;\n",
              "      height: 32px;\n",
              "      padding: 0 0 0 0;\n",
              "      width: 32px;\n",
              "    }\n",
              "\n",
              "    .colab-df-convert:hover {\n",
              "      background-color: #E2EBFA;\n",
              "      box-shadow: 0px 1px 2px rgba(60, 64, 67, 0.3), 0px 1px 3px 1px rgba(60, 64, 67, 0.15);\n",
              "      fill: #174EA6;\n",
              "    }\n",
              "\n",
              "    .colab-df-buttons div {\n",
              "      margin-bottom: 4px;\n",
              "    }\n",
              "\n",
              "    [theme=dark] .colab-df-convert {\n",
              "      background-color: #3B4455;\n",
              "      fill: #D2E3FC;\n",
              "    }\n",
              "\n",
              "    [theme=dark] .colab-df-convert:hover {\n",
              "      background-color: #434B5C;\n",
              "      box-shadow: 0px 1px 3px 1px rgba(0, 0, 0, 0.15);\n",
              "      filter: drop-shadow(0px 1px 2px rgba(0, 0, 0, 0.3));\n",
              "      fill: #FFFFFF;\n",
              "    }\n",
              "  </style>\n",
              "\n",
              "    <script>\n",
              "      const buttonEl =\n",
              "        document.querySelector('#df-1ef7cab2-9e96-4e19-a007-4748b2c8b7e6 button.colab-df-convert');\n",
              "      buttonEl.style.display =\n",
              "        google.colab.kernel.accessAllowed ? 'block' : 'none';\n",
              "\n",
              "      async function convertToInteractive(key) {\n",
              "        const element = document.querySelector('#df-1ef7cab2-9e96-4e19-a007-4748b2c8b7e6');\n",
              "        const dataTable =\n",
              "          await google.colab.kernel.invokeFunction('convertToInteractive',\n",
              "                                                    [key], {});\n",
              "        if (!dataTable) return;\n",
              "\n",
              "        const docLinkHtml = 'Like what you see? Visit the ' +\n",
              "          '<a target=\"_blank\" href=https://colab.research.google.com/notebooks/data_table.ipynb>data table notebook</a>'\n",
              "          + ' to learn more about interactive tables.';\n",
              "        element.innerHTML = '';\n",
              "        dataTable['output_type'] = 'display_data';\n",
              "        await google.colab.output.renderOutput(dataTable, element);\n",
              "        const docLink = document.createElement('div');\n",
              "        docLink.innerHTML = docLinkHtml;\n",
              "        element.appendChild(docLink);\n",
              "      }\n",
              "    </script>\n",
              "  </div>\n",
              "\n",
              "\n",
              "<div id=\"df-1932ad08-9241-4fe1-9302-1ea0626ae45f\">\n",
              "  <button class=\"colab-df-quickchart\" onclick=\"quickchart('df-1932ad08-9241-4fe1-9302-1ea0626ae45f')\"\n",
              "            title=\"Suggest charts.\"\n",
              "            style=\"display:none;\">\n",
              "\n",
              "<svg xmlns=\"http://www.w3.org/2000/svg\" height=\"24px\"viewBox=\"0 0 24 24\"\n",
              "     width=\"24px\">\n",
              "    <g>\n",
              "        <path d=\"M19 3H5c-1.1 0-2 .9-2 2v14c0 1.1.9 2 2 2h14c1.1 0 2-.9 2-2V5c0-1.1-.9-2-2-2zM9 17H7v-7h2v7zm4 0h-2V7h2v10zm4 0h-2v-4h2v4z\"/>\n",
              "    </g>\n",
              "</svg>\n",
              "  </button>\n",
              "\n",
              "<style>\n",
              "  .colab-df-quickchart {\n",
              "      --bg-color: #E8F0FE;\n",
              "      --fill-color: #1967D2;\n",
              "      --hover-bg-color: #E2EBFA;\n",
              "      --hover-fill-color: #174EA6;\n",
              "      --disabled-fill-color: #AAA;\n",
              "      --disabled-bg-color: #DDD;\n",
              "  }\n",
              "\n",
              "  [theme=dark] .colab-df-quickchart {\n",
              "      --bg-color: #3B4455;\n",
              "      --fill-color: #D2E3FC;\n",
              "      --hover-bg-color: #434B5C;\n",
              "      --hover-fill-color: #FFFFFF;\n",
              "      --disabled-bg-color: #3B4455;\n",
              "      --disabled-fill-color: #666;\n",
              "  }\n",
              "\n",
              "  .colab-df-quickchart {\n",
              "    background-color: var(--bg-color);\n",
              "    border: none;\n",
              "    border-radius: 50%;\n",
              "    cursor: pointer;\n",
              "    display: none;\n",
              "    fill: var(--fill-color);\n",
              "    height: 32px;\n",
              "    padding: 0;\n",
              "    width: 32px;\n",
              "  }\n",
              "\n",
              "  .colab-df-quickchart:hover {\n",
              "    background-color: var(--hover-bg-color);\n",
              "    box-shadow: 0 1px 2px rgba(60, 64, 67, 0.3), 0 1px 3px 1px rgba(60, 64, 67, 0.15);\n",
              "    fill: var(--button-hover-fill-color);\n",
              "  }\n",
              "\n",
              "  .colab-df-quickchart-complete:disabled,\n",
              "  .colab-df-quickchart-complete:disabled:hover {\n",
              "    background-color: var(--disabled-bg-color);\n",
              "    fill: var(--disabled-fill-color);\n",
              "    box-shadow: none;\n",
              "  }\n",
              "\n",
              "  .colab-df-spinner {\n",
              "    border: 2px solid var(--fill-color);\n",
              "    border-color: transparent;\n",
              "    border-bottom-color: var(--fill-color);\n",
              "    animation:\n",
              "      spin 1s steps(1) infinite;\n",
              "  }\n",
              "\n",
              "  @keyframes spin {\n",
              "    0% {\n",
              "      border-color: transparent;\n",
              "      border-bottom-color: var(--fill-color);\n",
              "      border-left-color: var(--fill-color);\n",
              "    }\n",
              "    20% {\n",
              "      border-color: transparent;\n",
              "      border-left-color: var(--fill-color);\n",
              "      border-top-color: var(--fill-color);\n",
              "    }\n",
              "    30% {\n",
              "      border-color: transparent;\n",
              "      border-left-color: var(--fill-color);\n",
              "      border-top-color: var(--fill-color);\n",
              "      border-right-color: var(--fill-color);\n",
              "    }\n",
              "    40% {\n",
              "      border-color: transparent;\n",
              "      border-right-color: var(--fill-color);\n",
              "      border-top-color: var(--fill-color);\n",
              "    }\n",
              "    60% {\n",
              "      border-color: transparent;\n",
              "      border-right-color: var(--fill-color);\n",
              "    }\n",
              "    80% {\n",
              "      border-color: transparent;\n",
              "      border-right-color: var(--fill-color);\n",
              "      border-bottom-color: var(--fill-color);\n",
              "    }\n",
              "    90% {\n",
              "      border-color: transparent;\n",
              "      border-bottom-color: var(--fill-color);\n",
              "    }\n",
              "  }\n",
              "</style>\n",
              "\n",
              "  <script>\n",
              "    async function quickchart(key) {\n",
              "      const quickchartButtonEl =\n",
              "        document.querySelector('#' + key + ' button');\n",
              "      quickchartButtonEl.disabled = true;  // To prevent multiple clicks.\n",
              "      quickchartButtonEl.classList.add('colab-df-spinner');\n",
              "      try {\n",
              "        const charts = await google.colab.kernel.invokeFunction(\n",
              "            'suggestCharts', [key], {});\n",
              "      } catch (error) {\n",
              "        console.error('Error during call to suggestCharts:', error);\n",
              "      }\n",
              "      quickchartButtonEl.classList.remove('colab-df-spinner');\n",
              "      quickchartButtonEl.classList.add('colab-df-quickchart-complete');\n",
              "    }\n",
              "    (() => {\n",
              "      let quickchartButtonEl =\n",
              "        document.querySelector('#df-1932ad08-9241-4fe1-9302-1ea0626ae45f button');\n",
              "      quickchartButtonEl.style.display =\n",
              "        google.colab.kernel.accessAllowed ? 'block' : 'none';\n",
              "    })();\n",
              "  </script>\n",
              "</div>\n",
              "    </div>\n",
              "  </div>\n"
            ]
          },
          "metadata": {},
          "execution_count": 9
        }
      ],
      "source": [
        "df.head()"
      ]
    },
    {
      "cell_type": "code",
      "execution_count": 10,
      "id": "ad981102",
      "metadata": {
        "id": "ad981102"
      },
      "outputs": [],
      "source": [
        "df['review'] = df['review'].apply(striphtml)"
      ]
    },
    {
      "cell_type": "code",
      "execution_count": 11,
      "id": "e7203a45",
      "metadata": {
        "id": "e7203a45"
      },
      "outputs": [],
      "source": [
        "df = df.drop(df[df['review'].apply(word_count) < 100].index)"
      ]
    },
    {
      "cell_type": "code",
      "execution_count": 12,
      "id": "c29765ce",
      "metadata": {
        "colab": {
          "base_uri": "https://localhost:8080/"
        },
        "id": "c29765ce",
        "outputId": "3a2cd4fe-8a62-4c1b-a454-d7971b82e21d"
      },
      "outputs": [
        {
          "output_type": "execute_result",
          "data": {
            "text/plain": [
              "358"
            ]
          },
          "metadata": {},
          "execution_count": 12
        }
      ],
      "source": [
        "df.duplicated().sum()"
      ]
    },
    {
      "cell_type": "code",
      "execution_count": 13,
      "id": "a93b494f",
      "metadata": {
        "id": "a93b494f"
      },
      "outputs": [],
      "source": [
        "df.drop_duplicates(inplace=True)"
      ]
    },
    {
      "cell_type": "code",
      "execution_count": 14,
      "id": "a5494809",
      "metadata": {
        "colab": {
          "base_uri": "https://localhost:8080/"
        },
        "id": "a5494809",
        "outputId": "46839643-a4af-4225-a08a-b3cb17246bcb"
      },
      "outputs": [
        {
          "output_type": "execute_result",
          "data": {
            "text/plain": [
              "(43279, 2)"
            ]
          },
          "metadata": {},
          "execution_count": 14
        }
      ],
      "source": [
        "df.shape"
      ]
    },
    {
      "cell_type": "code",
      "source": [
        "midpoint = len(df) // 2\n",
        "df1 = df.iloc[:midpoint]\n",
        "df2 = df.iloc[midpoint:]"
      ],
      "metadata": {
        "id": "NC45jlZDfwlc"
      },
      "id": "NC45jlZDfwlc",
      "execution_count": 15,
      "outputs": []
    },
    {
      "cell_type": "code",
      "source": [
        "# Authenticate and create a GoogleDrive instance\n",
        "gauth = GoogleAuth()\n",
        "drive = GoogleDrive(gauth)"
      ],
      "metadata": {
        "id": "ezdC-8xHHnVq"
      },
      "id": "ezdC-8xHHnVq",
      "execution_count": 16,
      "outputs": []
    },
    {
      "cell_type": "code",
      "execution_count": 17,
      "id": "543f4a8e",
      "metadata": {
        "id": "543f4a8e"
      },
      "outputs": [],
      "source": [
        "# cv = CountVectorizer(lowercase=True,ngram_range=(1, 3))"
      ]
    },
    {
      "cell_type": "code",
      "source": [
        "vectorizer = TextVectorization(\n",
        "    max_tokens=None,\n",
        "    standardize = 'lower_and_strip_punctuation',\n",
        "    output_mode='int',\n",
        "    output_sequence_length=8000,\n",
        "    ngrams=(1, 3)\n",
        ")"
      ],
      "metadata": {
        "id": "Sc5mQJV1jUy-"
      },
      "id": "Sc5mQJV1jUy-",
      "execution_count": 18,
      "outputs": []
    },
    {
      "cell_type": "code",
      "execution_count": 19,
      "id": "aa918ef2",
      "metadata": {
        "id": "aa918ef2"
      },
      "outputs": [],
      "source": [
        "sampled_data = df1.sample(n=15000, random_state=14)\n",
        "# n can be changed as required"
      ]
    },
    {
      "cell_type": "code",
      "execution_count": 20,
      "id": "4c83a5bb",
      "metadata": {
        "id": "4c83a5bb"
      },
      "outputs": [],
      "source": [
        "encoder = LabelEncoder()\n",
        "y=encoder.fit_transform(sampled_data.sentiment)"
      ]
    },
    {
      "cell_type": "code",
      "execution_count": 21,
      "id": "df786a40",
      "metadata": {
        "colab": {
          "base_uri": "https://localhost:8080/"
        },
        "id": "df786a40",
        "outputId": "bd029862-efe1-4a6a-83c9-5ada6589c671"
      },
      "outputs": [
        {
          "output_type": "execute_result",
          "data": {
            "text/plain": [
              "(15000,)"
            ]
          },
          "metadata": {},
          "execution_count": 21
        }
      ],
      "source": [
        "y.shape"
      ]
    },
    {
      "cell_type": "code",
      "execution_count": 22,
      "id": "9eeb6eb9",
      "metadata": {
        "id": "9eeb6eb9"
      },
      "outputs": [],
      "source": [
        "X_train=sampled_data.review\n",
        "y_train=y"
      ]
    },
    {
      "cell_type": "code",
      "execution_count": 23,
      "id": "74167d7d",
      "metadata": {
        "colab": {
          "base_uri": "https://localhost:8080/"
        },
        "id": "74167d7d",
        "outputId": "0230572b-fc10-48db-9bc5-091f198c6885"
      },
      "outputs": [
        {
          "output_type": "execute_result",
          "data": {
            "text/plain": [
              "(15000,)"
            ]
          },
          "metadata": {},
          "execution_count": 23
        }
      ],
      "source": [
        "X_train.shape"
      ]
    },
    {
      "cell_type": "code",
      "source": [
        "y_train.shape"
      ],
      "metadata": {
        "colab": {
          "base_uri": "https://localhost:8080/"
        },
        "id": "VmE_myTegh5r",
        "outputId": "e5d1ab31-0d9f-4fae-ac28-d49e5b5dc70c"
      },
      "id": "VmE_myTegh5r",
      "execution_count": 24,
      "outputs": [
        {
          "output_type": "execute_result",
          "data": {
            "text/plain": [
              "(15000,)"
            ]
          },
          "metadata": {},
          "execution_count": 24
        }
      ]
    },
    {
      "cell_type": "code",
      "execution_count": 25,
      "id": "7d1fa0e3",
      "metadata": {
        "id": "7d1fa0e3"
      },
      "outputs": [],
      "source": [
        "with tf.device('/gpu:0'):\n",
        "  vectorizer.adapt(X_train)\n",
        "  X_train_bow = vectorizer(X_train)\n",
        "  X_train_bow = pad_sequences(X_train_bow, maxlen=8000)\n",
        "  # X_train_bow = cv.fit_transform(X_train['review']).toarray()"
      ]
    },
    {
      "cell_type": "code",
      "execution_count": 26,
      "id": "16688988",
      "metadata": {
        "colab": {
          "base_uri": "https://localhost:8080/"
        },
        "id": "16688988",
        "outputId": "803012c2-eef2-4205-92de-26bcfd799b8e"
      },
      "outputs": [
        {
          "output_type": "execute_result",
          "data": {
            "text/plain": [
              "(15000, 8000)"
            ]
          },
          "metadata": {},
          "execution_count": 26
        }
      ],
      "source": [
        "X_train_bow.shape"
      ]
    },
    {
      "cell_type": "code",
      "source": [
        "X_train_bow"
      ],
      "metadata": {
        "colab": {
          "base_uri": "https://localhost:8080/"
        },
        "id": "OliU4EtKrXtv",
        "outputId": "f26eebea-de23-4e71-d9b9-0c3934631b9e"
      },
      "id": "OliU4EtKrXtv",
      "execution_count": 27,
      "outputs": [
        {
          "output_type": "execute_result",
          "data": {
            "text/plain": [
              "array([[    4,   961, 57465, ...,     0,     0,     0],\n",
              "       [ 1253,    11,    25, ...,     0,     0,     0],\n",
              "       [   11,   208,    10, ...,     0,     0,     0],\n",
              "       ...,\n",
              "       [   10,     7,   184, ...,     0,     0,     0],\n",
              "       [   11,   221,   210, ...,     0,     0,     0],\n",
              "       [   29,     4,  1398, ...,     0,     0,     0]], dtype=int32)"
            ]
          },
          "metadata": {},
          "execution_count": 27
        }
      ]
    },
    {
      "cell_type": "code",
      "source": [
        "len(vectorizer.get_vocabulary())"
      ],
      "metadata": {
        "colab": {
          "base_uri": "https://localhost:8080/"
        },
        "id": "hQak8JD1tq8v",
        "outputId": "d0bd7f4f-d8bc-4dae-c3dd-be8be0b1958c"
      },
      "id": "hQak8JD1tq8v",
      "execution_count": 28,
      "outputs": [
        {
          "output_type": "execute_result",
          "data": {
            "text/plain": [
              "2634886"
            ]
          },
          "metadata": {},
          "execution_count": 28
        }
      ]
    },
    {
      "cell_type": "code",
      "execution_count": 29,
      "id": "d9721cf7",
      "metadata": {
        "id": "d9721cf7",
        "colab": {
          "base_uri": "https://localhost:8080/"
        },
        "outputId": "d0c3be5e-4f62-4f5a-997c-7a0a80866f05"
      },
      "outputs": [
        {
          "output_type": "stream",
          "name": "stdout",
          "text": [
            "Epoch 1/10\n",
            "375/375 [==============================] - 94s 233ms/step - loss: 0.6965 - accuracy: 0.5064 - val_loss: 0.6927 - val_accuracy: 0.5180\n",
            "Epoch 2/10\n",
            "375/375 [==============================] - 81s 215ms/step - loss: 0.6932 - accuracy: 0.5071 - val_loss: 0.6930 - val_accuracy: 0.5180\n",
            "Epoch 3/10\n",
            "375/375 [==============================] - 73s 195ms/step - loss: 0.6931 - accuracy: 0.5083 - val_loss: 0.6928 - val_accuracy: 0.5180\n",
            "Epoch 4/10\n",
            "375/375 [==============================] - 71s 190ms/step - loss: 0.6931 - accuracy: 0.5093 - val_loss: 0.6929 - val_accuracy: 0.5180\n",
            "Epoch 5/10\n",
            "375/375 [==============================] - 59s 158ms/step - loss: 0.6931 - accuracy: 0.5099 - val_loss: 0.6926 - val_accuracy: 0.5180\n",
            "Epoch 6/10\n",
            "375/375 [==============================] - 58s 155ms/step - loss: 0.6930 - accuracy: 0.5087 - val_loss: 0.6924 - val_accuracy: 0.5180\n",
            "Epoch 7/10\n",
            "375/375 [==============================] - 55s 147ms/step - loss: 0.6929 - accuracy: 0.5093 - val_loss: 0.6924 - val_accuracy: 0.5183\n",
            "Epoch 8/10\n",
            "375/375 [==============================] - 51s 136ms/step - loss: 0.6928 - accuracy: 0.5108 - val_loss: 0.6939 - val_accuracy: 0.4820\n",
            "Epoch 9/10\n",
            "375/375 [==============================] - 44s 116ms/step - loss: 0.6926 - accuracy: 0.5213 - val_loss: 0.6919 - val_accuracy: 0.5250\n",
            "Epoch 10/10\n",
            "375/375 [==============================] - 45s 119ms/step - loss: 0.6923 - accuracy: 0.5340 - val_loss: 0.6914 - val_accuracy: 0.5247\n"
          ]
        }
      ],
      "source": [
        "with tf.device('/gpu:0'):\n",
        "  oracle = tf.keras.Sequential([\n",
        "    tf.keras.layers.Embedding(input_dim=8000, output_dim=300, input_length=8000),\n",
        "    tf.keras.layers.GlobalAveragePooling1D(),\n",
        "    tf.keras.layers.Dense(1, activation='sigmoid', kernel_regularizer=tf.keras.regularizers.l2(0.01))\n",
        "  ])\n",
        "  oracle.compile(loss='binary_crossentropy', optimizer='adam', metrics=['accuracy'])\n",
        "  oracle.fit(X_train_bow, y_train, epochs=10, batch_size=32, validation_split=0.2)\n",
        "  # oracle = LogisticRegression(penalty='l2', C=0.01, multi_class='ovr').fit(X_train_bow, y_train)"
      ]
    },
    {
      "cell_type": "code",
      "execution_count": 30,
      "id": "139df366",
      "metadata": {
        "id": "139df366"
      },
      "outputs": [],
      "source": [
        "# Pickle and save the model\n",
        "with open('oracle.pkl', 'wb') as model_file:\n",
        "    pickle.dump(oracle, model_file)"
      ]
    },
    {
      "cell_type": "code",
      "execution_count": 31,
      "id": "52c78c46",
      "metadata": {
        "id": "52c78c46"
      },
      "outputs": [],
      "source": [
        "def answer(oracle,x):\n",
        "  with tf.device('/gpu:0'):\n",
        "    print(oracle(x),1 - max(oracle(x)))\n",
        "    if 1 - max(oracle(x)) > 0.5:return -1\n",
        "    return oracle.predict(x)"
      ]
    },
    {
      "cell_type": "markdown",
      "source": [
        "## **Anytime Active Learning**\n",
        "\n"
      ],
      "metadata": {
        "id": "kex6z2R-ahCx"
      },
      "id": "kex6z2R-ahCx"
    },
    {
      "cell_type": "markdown",
      "source": [
        "###\\ Static AAL"
      ],
      "metadata": {
        "id": "4Y_CKe7jarsV"
      },
      "id": "4Y_CKe7jarsV"
    },
    {
      "cell_type": "code",
      "execution_count": 32,
      "id": "b03385e5",
      "metadata": {
        "id": "b03385e5"
      },
      "outputs": [],
      "source": [
        "def static_k_unc(Xik,PretrainedClassifier):\n",
        "  return 1-PretrainedClassifier.predict_proba(Xik)"
      ]
    },
    {
      "cell_type": "code",
      "execution_count": 33,
      "id": "8bc2cfea",
      "metadata": {
        "id": "8bc2cfea"
      },
      "outputs": [],
      "source": [
        "def static_k_const(Xik,PretrainedClassifier):\n",
        "  return 1"
      ]
    },
    {
      "cell_type": "code",
      "source": [
        "def generate_Uk(U,k):\n",
        "  with tf.device('/gpu:0'):\n",
        "    Uk = U.apply(lambda x: ' '.join(x.split()[:k]))\n",
        "    vectorizer.adapt(Uk)\n",
        "    Uk = vectorizer(Uk)\n",
        "    Uk = pad_sequences(Uk, maxlen=8000)\n",
        "    return Uk"
      ],
      "metadata": {
        "id": "3I2t5iee-UYc"
      },
      "id": "3I2t5iee-UYc",
      "execution_count": 34,
      "outputs": []
    },
    {
      "cell_type": "code",
      "execution_count": 35,
      "id": "69ece735",
      "metadata": {
        "id": "69ece735"
      },
      "outputs": [],
      "source": [
        "sampled_data = df2.sample(n=1000, random_state=14)"
      ]
    },
    {
      "cell_type": "code",
      "execution_count": 36,
      "id": "515d860d",
      "metadata": {
        "id": "515d860d"
      },
      "outputs": [],
      "source": [
        "y=encoder.fit_transform(sampled_data.sentiment)"
      ]
    },
    {
      "cell_type": "code",
      "execution_count": 37,
      "id": "3307f22d",
      "metadata": {
        "id": "3307f22d"
      },
      "outputs": [],
      "source": [
        "X_train,X_test,y_train,y_test = train_test_split(sampled_data.iloc[:,0:1],y,test_size=0.5,random_state=1)"
      ]
    },
    {
      "cell_type": "code",
      "execution_count": 38,
      "id": "606100d3",
      "metadata": {
        "id": "606100d3"
      },
      "outputs": [],
      "source": [
        "with tf.device('/gpu:0'):\n",
        "  vectorizer.adapt(X_train)\n",
        "  X_train_bow = vectorizer(X_train)\n",
        "  X_train_bow = pad_sequences(X_train_bow, maxlen=8000)\n",
        "  X_test_bow = vectorizer(X_train)\n",
        "  X_test_bow = pad_sequences(X_train_bow, maxlen=8000)\n",
        "  # X_train_bow = cv.fit_transform(X_train['review']).toarray()"
      ]
    },
    {
      "cell_type": "code",
      "source": [
        "def select_subinstance(U,classifier):\n",
        "  with tf.device('/gpu:0'):\n",
        "    vectorizer.adapt(U)\n",
        "    U = vectorizer(U)\n",
        "    U = pad_sequences(U, maxlen=8000)\n",
        "  return np.argmin(classifier(U))"
      ],
      "metadata": {
        "id": "xIPN4dnF5hgA"
      },
      "id": "xIPN4dnF5hgA",
      "execution_count": 39,
      "outputs": []
    },
    {
      "cell_type": "code",
      "execution_count": 40,
      "id": "b497d8f7",
      "metadata": {
        "id": "b497d8f7"
      },
      "outputs": [],
      "source": [
        "U = df2.sample(n=1000, random_state=14)['review']\n",
        "U_=copy.deepcopy(U)\n",
        "with tf.device('/gpu:0'):\n",
        "  vectorizer.adapt(U)\n",
        "  U = vectorizer(U)\n",
        "  U = pad_sequences(U, maxlen=8000)\n",
        "# U = cv.transform(X_test['review']).toarray()"
      ]
    },
    {
      "cell_type": "code",
      "source": [
        "# with tf.device('/gpu:0'):\n",
        "#   U_=copy.deepcopy(U)\n",
        "#   vectorizer.adapt(U_)\n",
        "#   U_ = vectorizer(U_)\n",
        "#   U_ = pad_sequences(U, maxlen=8000)"
      ],
      "metadata": {
        "id": "dRmp2tQHNvW0"
      },
      "id": "dRmp2tQHNvW0",
      "execution_count": 41,
      "outputs": []
    },
    {
      "cell_type": "code",
      "execution_count": 42,
      "id": "c035041b",
      "metadata": {
        "id": "c035041b"
      },
      "outputs": [],
      "source": [
        "k = 25"
      ]
    },
    {
      "cell_type": "code",
      "execution_count": 43,
      "id": "36f4922a",
      "metadata": {
        "id": "36f4922a"
      },
      "outputs": [],
      "source": [
        "Uk = generate_Uk(U_,k)"
      ]
    },
    {
      "cell_type": "code",
      "execution_count": 44,
      "id": "ababe15b",
      "metadata": {
        "id": "ababe15b",
        "colab": {
          "base_uri": "https://localhost:8080/"
        },
        "outputId": "c737c613-8808-4bec-fdff-11469722e175"
      },
      "outputs": [
        {
          "output_type": "stream",
          "name": "stdout",
          "text": [
            "16/16 [==============================] - 4s 185ms/step - loss: 0.7089 - accuracy: 0.5180\n"
          ]
        }
      ],
      "source": [
        "with tf.device('/gpu:0'):\n",
        "  PretrainedClassifier = tf.keras.Sequential([\n",
        "    tf.keras.layers.Embedding(input_dim=8000, output_dim=300, input_length=8000),\n",
        "    tf.keras.layers.GlobalAveragePooling1D(),\n",
        "    tf.keras.layers.Dense(1, activation='sigmoid', kernel_regularizer=tf.keras.regularizers.l2(0.01)),\n",
        "  ])\n",
        "  PretrainedClassifier.compile(loss='binary_crossentropy', optimizer='adam', metrics=['accuracy'])\n",
        "  PretrainedClassifier.fit(X_train_bow,y_train)\n",
        "  # PretrainedClassifier = LogisticRegression(penalty='l2', C=0.01, multi_class='ovr').fit(X_train_bow, y_train)"
      ]
    },
    {
      "cell_type": "code",
      "source": [],
      "metadata": {
        "id": "8w4600uFfh9n"
      },
      "id": "8w4600uFfh9n",
      "execution_count": 44,
      "outputs": []
    },
    {
      "cell_type": "code",
      "source": [
        "L = X_train_bow"
      ],
      "metadata": {
        "id": "MFkLQaJ5C6mD"
      },
      "id": "MFkLQaJ5C6mD",
      "execution_count": 45,
      "outputs": []
    },
    {
      "cell_type": "code",
      "execution_count": 46,
      "id": "084de6e4",
      "metadata": {
        "id": "084de6e4"
      },
      "outputs": [],
      "source": [
        "C={10:5.7,25:8.2,50:10.9,75:15.9,100:16.7}"
      ]
    },
    {
      "cell_type": "code",
      "execution_count": 47,
      "id": "2f59e36c",
      "metadata": {
        "id": "2f59e36c"
      },
      "outputs": [],
      "source": [
        "Ck = 8.2"
      ]
    },
    {
      "cell_type": "markdown",
      "source": [
        "## Algorithm 1"
      ],
      "metadata": {
        "id": "VbF2ZYYXBl1M"
      },
      "id": "VbF2ZYYXBl1M"
    },
    {
      "cell_type": "code",
      "source": [
        "with open('oracle.pkl', 'rb') as model_file:\n",
        "    oracle = pickle.load(model_file)"
      ],
      "metadata": {
        "id": "BxNavId_ZiSi"
      },
      "id": "BxNavId_ZiSi",
      "execution_count": 48,
      "outputs": []
    },
    {
      "cell_type": "code",
      "source": [
        "L.shape"
      ],
      "metadata": {
        "colab": {
          "base_uri": "https://localhost:8080/"
        },
        "id": "s4Rx9gjygaEo",
        "outputId": "ab1d0efa-73a7-4a29-a851-51fa75e9c6c2"
      },
      "id": "s4Rx9gjygaEo",
      "execution_count": 49,
      "outputs": [
        {
          "output_type": "execute_result",
          "data": {
            "text/plain": [
              "(500, 8000)"
            ]
          },
          "metadata": {},
          "execution_count": 49
        }
      ]
    },
    {
      "cell_type": "code",
      "source": [
        "Uk.shape"
      ],
      "metadata": {
        "colab": {
          "base_uri": "https://localhost:8080/"
        },
        "id": "5sCQ7tVm1xG2",
        "outputId": "36703b4e-80d0-45f3-b14f-7a17500a912d"
      },
      "id": "5sCQ7tVm1xG2",
      "execution_count": 50,
      "outputs": [
        {
          "output_type": "execute_result",
          "data": {
            "text/plain": [
              "(1000, 8000)"
            ]
          },
          "metadata": {},
          "execution_count": 50
        }
      ]
    },
    {
      "cell_type": "code",
      "source": [
        "auc=[]\n",
        "cost=[]"
      ],
      "metadata": {
        "id": "tGchvR_is-N6"
      },
      "id": "tGchvR_is-N6",
      "execution_count": 51,
      "outputs": []
    },
    {
      "cell_type": "code",
      "execution_count": 54,
      "id": "4f36aac8",
      "metadata": {
        "id": "4f36aac8",
        "colab": {
          "base_uri": "https://localhost:8080/",
          "height": 390
        },
        "outputId": "a249d7df-5834-45cc-c0e8-6820c2495265"
      },
      "outputs": [
        {
          "output_type": "error",
          "ename": "InternalError",
          "evalue": "ignored",
          "traceback": [
            "\u001b[0;31m---------------------------------------------------------------------------\u001b[0m",
            "\u001b[0;31mInternalError\u001b[0m                             Traceback (most recent call last)",
            "\u001b[0;32m<ipython-input-54-6506b26b5ad0>\u001b[0m in \u001b[0;36m<cell line: 3>\u001b[0;34m()\u001b[0m\n\u001b[1;32m      3\u001b[0m \u001b[0;32mwith\u001b[0m \u001b[0mtf\u001b[0m\u001b[0;34m.\u001b[0m\u001b[0mdevice\u001b[0m\u001b[0;34m(\u001b[0m\u001b[0;34m'/gpu:0'\u001b[0m\u001b[0;34m)\u001b[0m\u001b[0;34m:\u001b[0m\u001b[0;34m\u001b[0m\u001b[0;34m\u001b[0m\u001b[0m\n\u001b[1;32m      4\u001b[0m   \u001b[0;32mwhile\u001b[0m \u001b[0mB\u001b[0m\u001b[0;34m>\u001b[0m\u001b[0;36m0\u001b[0m\u001b[0;34m:\u001b[0m\u001b[0;34m\u001b[0m\u001b[0;34m\u001b[0m\u001b[0m\n\u001b[0;32m----> 5\u001b[0;31m     \u001b[0mindex\u001b[0m \u001b[0;34m=\u001b[0m \u001b[0mselect_subinstance\u001b[0m\u001b[0;34m(\u001b[0m\u001b[0mU_\u001b[0m\u001b[0;34m,\u001b[0m\u001b[0mPretrainedClassifier\u001b[0m\u001b[0;34m)\u001b[0m\u001b[0;34m\u001b[0m\u001b[0;34m\u001b[0m\u001b[0m\n\u001b[0m\u001b[1;32m      6\u001b[0m     \u001b[0mXik\u001b[0m \u001b[0;34m=\u001b[0m \u001b[0mUk\u001b[0m\u001b[0;34m[\u001b[0m\u001b[0mindex\u001b[0m\u001b[0;34m]\u001b[0m\u001b[0;34m\u001b[0m\u001b[0;34m\u001b[0m\u001b[0m\n\u001b[1;32m      7\u001b[0m     \u001b[0mXi\u001b[0m \u001b[0;34m=\u001b[0m \u001b[0mU\u001b[0m\u001b[0;34m[\u001b[0m\u001b[0mindex\u001b[0m\u001b[0;34m]\u001b[0m\u001b[0;34m\u001b[0m\u001b[0;34m\u001b[0m\u001b[0m\n",
            "\u001b[0;32m<ipython-input-39-65d49729e372>\u001b[0m in \u001b[0;36mselect_subinstance\u001b[0;34m(U, classifier)\u001b[0m\n\u001b[1;32m      1\u001b[0m \u001b[0;32mdef\u001b[0m \u001b[0mselect_subinstance\u001b[0m\u001b[0;34m(\u001b[0m\u001b[0mU\u001b[0m\u001b[0;34m,\u001b[0m\u001b[0mclassifier\u001b[0m\u001b[0;34m)\u001b[0m\u001b[0;34m:\u001b[0m\u001b[0;34m\u001b[0m\u001b[0;34m\u001b[0m\u001b[0m\n\u001b[1;32m      2\u001b[0m   \u001b[0;32mwith\u001b[0m \u001b[0mtf\u001b[0m\u001b[0;34m.\u001b[0m\u001b[0mdevice\u001b[0m\u001b[0;34m(\u001b[0m\u001b[0;34m'/gpu:0'\u001b[0m\u001b[0;34m)\u001b[0m\u001b[0;34m:\u001b[0m\u001b[0;34m\u001b[0m\u001b[0;34m\u001b[0m\u001b[0m\n\u001b[0;32m----> 3\u001b[0;31m     \u001b[0mvectorizer\u001b[0m\u001b[0;34m.\u001b[0m\u001b[0madapt\u001b[0m\u001b[0;34m(\u001b[0m\u001b[0mU\u001b[0m\u001b[0;34m)\u001b[0m\u001b[0;34m\u001b[0m\u001b[0;34m\u001b[0m\u001b[0m\n\u001b[0m\u001b[1;32m      4\u001b[0m     \u001b[0mU\u001b[0m \u001b[0;34m=\u001b[0m \u001b[0mvectorizer\u001b[0m\u001b[0;34m(\u001b[0m\u001b[0mU\u001b[0m\u001b[0;34m)\u001b[0m\u001b[0;34m\u001b[0m\u001b[0;34m\u001b[0m\u001b[0m\n\u001b[1;32m      5\u001b[0m     \u001b[0mU\u001b[0m \u001b[0;34m=\u001b[0m \u001b[0mpad_sequences\u001b[0m\u001b[0;34m(\u001b[0m\u001b[0mU\u001b[0m\u001b[0;34m,\u001b[0m \u001b[0mmaxlen\u001b[0m\u001b[0;34m=\u001b[0m\u001b[0;36m8000\u001b[0m\u001b[0;34m)\u001b[0m\u001b[0;34m\u001b[0m\u001b[0;34m\u001b[0m\u001b[0m\n",
            "\u001b[0;32m/usr/local/lib/python3.10/dist-packages/keras/src/layers/preprocessing/text_vectorization.py\u001b[0m in \u001b[0;36madapt\u001b[0;34m(self, data, batch_size, steps)\u001b[0m\n\u001b[1;32m    471\u001b[0m               \u001b[0margument\u001b[0m \u001b[0;32mis\u001b[0m \u001b[0;32mnot\u001b[0m \u001b[0msupported\u001b[0m \u001b[0;32mwith\u001b[0m \u001b[0marray\u001b[0m \u001b[0minputs\u001b[0m\u001b[0;34m.\u001b[0m\u001b[0;34m\u001b[0m\u001b[0;34m\u001b[0m\u001b[0m\n\u001b[1;32m    472\u001b[0m         \"\"\"\n\u001b[0;32m--> 473\u001b[0;31m         \u001b[0msuper\u001b[0m\u001b[0;34m(\u001b[0m\u001b[0;34m)\u001b[0m\u001b[0;34m.\u001b[0m\u001b[0madapt\u001b[0m\u001b[0;34m(\u001b[0m\u001b[0mdata\u001b[0m\u001b[0;34m,\u001b[0m \u001b[0mbatch_size\u001b[0m\u001b[0;34m=\u001b[0m\u001b[0mbatch_size\u001b[0m\u001b[0;34m,\u001b[0m \u001b[0msteps\u001b[0m\u001b[0;34m=\u001b[0m\u001b[0msteps\u001b[0m\u001b[0;34m)\u001b[0m\u001b[0;34m\u001b[0m\u001b[0;34m\u001b[0m\u001b[0m\n\u001b[0m\u001b[1;32m    474\u001b[0m \u001b[0;34m\u001b[0m\u001b[0m\n\u001b[1;32m    475\u001b[0m     \u001b[0;32mdef\u001b[0m \u001b[0mupdate_state\u001b[0m\u001b[0;34m(\u001b[0m\u001b[0mself\u001b[0m\u001b[0;34m,\u001b[0m \u001b[0mdata\u001b[0m\u001b[0;34m)\u001b[0m\u001b[0;34m:\u001b[0m\u001b[0;34m\u001b[0m\u001b[0;34m\u001b[0m\u001b[0m\n",
            "\u001b[0;32m/usr/local/lib/python3.10/dist-packages/keras/src/engine/base_preprocessing_layer.py\u001b[0m in \u001b[0;36madapt\u001b[0;34m(self, data, batch_size, steps)\u001b[0m\n\u001b[1;32m    244\u001b[0m         \u001b[0;32mif\u001b[0m \u001b[0mself\u001b[0m\u001b[0;34m.\u001b[0m\u001b[0mbuilt\u001b[0m\u001b[0;34m:\u001b[0m\u001b[0;34m\u001b[0m\u001b[0;34m\u001b[0m\u001b[0m\n\u001b[1;32m    245\u001b[0m             \u001b[0mself\u001b[0m\u001b[0;34m.\u001b[0m\u001b[0mreset_state\u001b[0m\u001b[0;34m(\u001b[0m\u001b[0;34m)\u001b[0m\u001b[0;34m\u001b[0m\u001b[0;34m\u001b[0m\u001b[0m\n\u001b[0;32m--> 246\u001b[0;31m         data_handler = data_adapter.DataHandler(\n\u001b[0m\u001b[1;32m    247\u001b[0m             \u001b[0mdata\u001b[0m\u001b[0;34m,\u001b[0m\u001b[0;34m\u001b[0m\u001b[0;34m\u001b[0m\u001b[0m\n\u001b[1;32m    248\u001b[0m             \u001b[0mbatch_size\u001b[0m\u001b[0;34m=\u001b[0m\u001b[0mbatch_size\u001b[0m\u001b[0;34m,\u001b[0m\u001b[0;34m\u001b[0m\u001b[0;34m\u001b[0m\u001b[0m\n",
            "\u001b[0;32m/usr/local/lib/python3.10/dist-packages/keras/src/engine/data_adapter.py\u001b[0m in \u001b[0;36m__init__\u001b[0;34m(self, x, y, sample_weight, batch_size, steps_per_epoch, initial_epoch, epochs, shuffle, class_weight, max_queue_size, workers, use_multiprocessing, model, steps_per_execution, distribute, pss_evaluation_shards)\u001b[0m\n\u001b[1;32m   1302\u001b[0m \u001b[0;34m\u001b[0m\u001b[0m\n\u001b[1;32m   1303\u001b[0m         \u001b[0mself\u001b[0m\u001b[0;34m.\u001b[0m\u001b[0m_current_step\u001b[0m \u001b[0;34m=\u001b[0m \u001b[0;36m0\u001b[0m\u001b[0;34m\u001b[0m\u001b[0;34m\u001b[0m\u001b[0m\n\u001b[0;32m-> 1304\u001b[0;31m         \u001b[0mself\u001b[0m\u001b[0;34m.\u001b[0m\u001b[0m_step_increment\u001b[0m \u001b[0;34m=\u001b[0m \u001b[0mself\u001b[0m\u001b[0;34m.\u001b[0m\u001b[0m_steps_per_execution\u001b[0m\u001b[0;34m.\u001b[0m\u001b[0mnumpy\u001b[0m\u001b[0;34m(\u001b[0m\u001b[0;34m)\u001b[0m\u001b[0;34m.\u001b[0m\u001b[0mitem\u001b[0m\u001b[0;34m(\u001b[0m\u001b[0;34m)\u001b[0m \u001b[0;34m-\u001b[0m \u001b[0;36m1\u001b[0m\u001b[0;34m\u001b[0m\u001b[0;34m\u001b[0m\u001b[0m\n\u001b[0m\u001b[1;32m   1305\u001b[0m         \u001b[0mself\u001b[0m\u001b[0;34m.\u001b[0m\u001b[0m_insufficient_data\u001b[0m \u001b[0;34m=\u001b[0m \u001b[0;32mFalse\u001b[0m\u001b[0;34m\u001b[0m\u001b[0;34m\u001b[0m\u001b[0m\n\u001b[1;32m   1306\u001b[0m \u001b[0;34m\u001b[0m\u001b[0m\n",
            "\u001b[0;32m/usr/local/lib/python3.10/dist-packages/tensorflow/python/ops/resource_variable_ops.py\u001b[0m in \u001b[0;36mnumpy\u001b[0;34m(self)\u001b[0m\n\u001b[1;32m    686\u001b[0m   \u001b[0;32mdef\u001b[0m \u001b[0mnumpy\u001b[0m\u001b[0;34m(\u001b[0m\u001b[0mself\u001b[0m\u001b[0;34m)\u001b[0m\u001b[0;34m:\u001b[0m\u001b[0;34m\u001b[0m\u001b[0;34m\u001b[0m\u001b[0m\n\u001b[1;32m    687\u001b[0m     \u001b[0;32mif\u001b[0m \u001b[0mcontext\u001b[0m\u001b[0;34m.\u001b[0m\u001b[0mexecuting_eagerly\u001b[0m\u001b[0;34m(\u001b[0m\u001b[0;34m)\u001b[0m\u001b[0;34m:\u001b[0m\u001b[0;34m\u001b[0m\u001b[0;34m\u001b[0m\u001b[0m\n\u001b[0;32m--> 688\u001b[0;31m       \u001b[0;32mreturn\u001b[0m \u001b[0mself\u001b[0m\u001b[0;34m.\u001b[0m\u001b[0mread_value\u001b[0m\u001b[0;34m(\u001b[0m\u001b[0;34m)\u001b[0m\u001b[0;34m.\u001b[0m\u001b[0mnumpy\u001b[0m\u001b[0;34m(\u001b[0m\u001b[0;34m)\u001b[0m\u001b[0;34m\u001b[0m\u001b[0;34m\u001b[0m\u001b[0m\n\u001b[0m\u001b[1;32m    689\u001b[0m     raise NotImplementedError(\n\u001b[1;32m    690\u001b[0m         \"numpy() is only available when eager execution is enabled.\")\n",
            "\u001b[0;32m/usr/local/lib/python3.10/dist-packages/tensorflow/python/framework/ops.py\u001b[0m in \u001b[0;36mnumpy\u001b[0;34m(self)\u001b[0m\n\u001b[1;32m   1139\u001b[0m     \"\"\"\n\u001b[1;32m   1140\u001b[0m     \u001b[0;31m# TODO(slebedev): Consider avoiding a copy for non-CPU or remote tensors.\u001b[0m\u001b[0;34m\u001b[0m\u001b[0;34m\u001b[0m\u001b[0m\n\u001b[0;32m-> 1141\u001b[0;31m     \u001b[0mmaybe_arr\u001b[0m \u001b[0;34m=\u001b[0m \u001b[0mself\u001b[0m\u001b[0;34m.\u001b[0m\u001b[0m_numpy\u001b[0m\u001b[0;34m(\u001b[0m\u001b[0;34m)\u001b[0m  \u001b[0;31m# pylint: disable=protected-access\u001b[0m\u001b[0;34m\u001b[0m\u001b[0;34m\u001b[0m\u001b[0m\n\u001b[0m\u001b[1;32m   1142\u001b[0m     \u001b[0;32mreturn\u001b[0m \u001b[0mmaybe_arr\u001b[0m\u001b[0;34m.\u001b[0m\u001b[0mcopy\u001b[0m\u001b[0;34m(\u001b[0m\u001b[0;34m)\u001b[0m \u001b[0;32mif\u001b[0m \u001b[0misinstance\u001b[0m\u001b[0;34m(\u001b[0m\u001b[0mmaybe_arr\u001b[0m\u001b[0;34m,\u001b[0m \u001b[0mnp\u001b[0m\u001b[0;34m.\u001b[0m\u001b[0mndarray\u001b[0m\u001b[0;34m)\u001b[0m \u001b[0;32melse\u001b[0m \u001b[0mmaybe_arr\u001b[0m\u001b[0;34m\u001b[0m\u001b[0;34m\u001b[0m\u001b[0m\n\u001b[1;32m   1143\u001b[0m \u001b[0;34m\u001b[0m\u001b[0m\n",
            "\u001b[0;32m/usr/local/lib/python3.10/dist-packages/tensorflow/python/framework/ops.py\u001b[0m in \u001b[0;36m_numpy\u001b[0;34m(self)\u001b[0m\n\u001b[1;32m   1107\u001b[0m       \u001b[0;32mreturn\u001b[0m \u001b[0mself\u001b[0m\u001b[0;34m.\u001b[0m\u001b[0m_numpy_internal\u001b[0m\u001b[0;34m(\u001b[0m\u001b[0;34m)\u001b[0m\u001b[0;34m\u001b[0m\u001b[0;34m\u001b[0m\u001b[0m\n\u001b[1;32m   1108\u001b[0m     \u001b[0;32mexcept\u001b[0m \u001b[0mcore\u001b[0m\u001b[0;34m.\u001b[0m\u001b[0m_NotOkStatusException\u001b[0m \u001b[0;32mas\u001b[0m \u001b[0me\u001b[0m\u001b[0;34m:\u001b[0m  \u001b[0;31m# pylint: disable=protected-access\u001b[0m\u001b[0;34m\u001b[0m\u001b[0;34m\u001b[0m\u001b[0m\n\u001b[0;32m-> 1109\u001b[0;31m       \u001b[0;32mraise\u001b[0m \u001b[0mcore\u001b[0m\u001b[0;34m.\u001b[0m\u001b[0m_status_to_exception\u001b[0m\u001b[0;34m(\u001b[0m\u001b[0me\u001b[0m\u001b[0;34m)\u001b[0m \u001b[0;32mfrom\u001b[0m \u001b[0;32mNone\u001b[0m  \u001b[0;31m# pylint: disable=protected-access\u001b[0m\u001b[0;34m\u001b[0m\u001b[0;34m\u001b[0m\u001b[0m\n\u001b[0m\u001b[1;32m   1110\u001b[0m \u001b[0;34m\u001b[0m\u001b[0m\n\u001b[1;32m   1111\u001b[0m   \u001b[0;34m@\u001b[0m\u001b[0mproperty\u001b[0m\u001b[0;34m\u001b[0m\u001b[0;34m\u001b[0m\u001b[0m\n",
            "\u001b[0;31mInternalError\u001b[0m: stream did not block host until done; was already in an error state"
          ]
        }
      ],
      "source": [
        "# Budget of 50 minutes\n",
        "B = 1500\n",
        "with tf.device('/gpu:0'):\n",
        "  while B>0:\n",
        "    index = select_subinstance(U_,PretrainedClassifier)\n",
        "    Xik = Uk[index]\n",
        "    Xi = U[index]\n",
        "    U=np.concatenate((U[:index], U[index + 1:]))\n",
        "    Uk=np.concatenate((Uk[:index], Uk[index + 1:]))\n",
        "    U_=np.concatenate((U_[:index], U_[index + 1:]))\n",
        "    a = answer(oracle,tf.expand_dims(Xik, axis=0))\n",
        "    print(B,a)\n",
        "    B = B - Ck\n",
        "    if a!=-1:\n",
        "      print(\"\\n\\nhoorah\\n\\n\")\n",
        "      L = np.concatenate((L, [Xi]))\n",
        "      y_train = np.concatenate((y_train,[a]))\n",
        "      PretrainedClassifier.fit(L, y_train)\n",
        "      vectorizer.adapt(X_test)\n",
        "      # X_test_bow = cv.transform(X_test['review']).toarray()\n",
        "      y_test_pred = PretrainedClassifier(U)\n",
        "      auc.append(roc_auc_score(y_test, y_test_pred))\n",
        "      cost.append(3000-B)"
      ]
    },
    {
      "cell_type": "code",
      "execution_count": null,
      "id": "b9294e05",
      "metadata": {
        "id": "b9294e05"
      },
      "outputs": [],
      "source": [
        "plt.figure(figsize=(10, 6))\n",
        "plt.plot(cost, auc)\n",
        "plt.xlabel(\"Cost\")\n",
        "plt.ylabel(\"AUC\")\n",
        "plt.grid(True)\n",
        "plt.show()"
      ]
    },
    {
      "cell_type": "code",
      "execution_count": null,
      "id": "1885a8c7",
      "metadata": {
        "id": "1885a8c7"
      },
      "outputs": [],
      "source": []
    },
    {
      "cell_type": "code",
      "execution_count": null,
      "id": "21bd3ef1",
      "metadata": {
        "id": "21bd3ef1"
      },
      "outputs": [],
      "source": []
    },
    {
      "cell_type": "code",
      "execution_count": null,
      "id": "68211726",
      "metadata": {
        "id": "68211726"
      },
      "outputs": [],
      "source": []
    },
    {
      "cell_type": "code",
      "execution_count": null,
      "id": "2b313b59",
      "metadata": {
        "id": "2b313b59"
      },
      "outputs": [],
      "source": []
    },
    {
      "cell_type": "code",
      "execution_count": null,
      "id": "f3d4b37f",
      "metadata": {
        "id": "f3d4b37f"
      },
      "outputs": [],
      "source": []
    },
    {
      "cell_type": "code",
      "execution_count": null,
      "id": "b8e90fa8",
      "metadata": {
        "id": "b8e90fa8"
      },
      "outputs": [],
      "source": []
    },
    {
      "cell_type": "code",
      "execution_count": null,
      "id": "34a77c2a",
      "metadata": {
        "id": "34a77c2a"
      },
      "outputs": [],
      "source": []
    },
    {
      "cell_type": "code",
      "execution_count": null,
      "id": "692baef8",
      "metadata": {
        "id": "692baef8"
      },
      "outputs": [],
      "source": []
    },
    {
      "cell_type": "code",
      "execution_count": null,
      "id": "905c6208",
      "metadata": {
        "id": "905c6208"
      },
      "outputs": [],
      "source": []
    },
    {
      "cell_type": "code",
      "execution_count": null,
      "id": "b9db072c",
      "metadata": {
        "id": "b9db072c"
      },
      "outputs": [],
      "source": []
    },
    {
      "cell_type": "code",
      "execution_count": null,
      "id": "2f722fbf",
      "metadata": {
        "id": "2f722fbf"
      },
      "outputs": [],
      "source": []
    },
    {
      "cell_type": "code",
      "execution_count": null,
      "id": "7212ada0",
      "metadata": {
        "id": "7212ada0"
      },
      "outputs": [],
      "source": []
    },
    {
      "cell_type": "code",
      "execution_count": null,
      "id": "ef8e96f4",
      "metadata": {
        "id": "ef8e96f4"
      },
      "outputs": [],
      "source": []
    },
    {
      "cell_type": "code",
      "execution_count": null,
      "id": "1b3ef020",
      "metadata": {
        "id": "1b3ef020"
      },
      "outputs": [],
      "source": []
    },
    {
      "cell_type": "code",
      "execution_count": null,
      "id": "44a07ee7",
      "metadata": {
        "id": "44a07ee7"
      },
      "outputs": [],
      "source": []
    },
    {
      "cell_type": "code",
      "execution_count": null,
      "id": "2ca2e42f",
      "metadata": {
        "id": "2ca2e42f"
      },
      "outputs": [],
      "source": []
    }
  ],
  "metadata": {
    "kernelspec": {
      "display_name": "Python 3",
      "name": "python3"
    },
    "language_info": {
      "codemirror_mode": {
        "name": "ipython",
        "version": 3
      },
      "file_extension": ".py",
      "mimetype": "text/x-python",
      "name": "python",
      "nbconvert_exporter": "python",
      "pygments_lexer": "ipython3",
      "version": "3.8.17"
    },
    "colab": {
      "provenance": [],
      "gpuType": "T4"
    },
    "accelerator": "GPU"
  },
  "nbformat": 4,
  "nbformat_minor": 5
}